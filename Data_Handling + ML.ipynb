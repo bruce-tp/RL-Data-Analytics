{
 "cells": [
  {
   "cell_type": "code",
   "execution_count": 59,
   "metadata": {},
   "outputs": [],
   "source": [
    "import pandas as pd\n",
    "import matplotlib.pyplot as plt\n",
    "import matplotlib as mpl\n",
    "import seaborn as sns\n",
    "import pandas as pd\n",
    "import numpy as np"
   ]
  },
  {
   "cell_type": "code",
   "execution_count": 60,
   "metadata": {},
   "outputs": [],
   "source": [
    "df = pd.read_csv(\"e-shop clothing 2008.csv\", sep=';')"
   ]
  },
  {
   "cell_type": "code",
   "execution_count": 61,
   "metadata": {},
   "outputs": [
    {
     "data": {
      "text/html": [
       "<div>\n",
       "<style scoped>\n",
       "    .dataframe tbody tr th:only-of-type {\n",
       "        vertical-align: middle;\n",
       "    }\n",
       "\n",
       "    .dataframe tbody tr th {\n",
       "        vertical-align: top;\n",
       "    }\n",
       "\n",
       "    .dataframe thead th {\n",
       "        text-align: right;\n",
       "    }\n",
       "</style>\n",
       "<table border=\"1\" class=\"dataframe\">\n",
       "  <thead>\n",
       "    <tr style=\"text-align: right;\">\n",
       "      <th></th>\n",
       "      <th>year</th>\n",
       "      <th>month</th>\n",
       "      <th>day</th>\n",
       "      <th>order</th>\n",
       "      <th>country</th>\n",
       "      <th>session ID</th>\n",
       "      <th>page 1 (main category)</th>\n",
       "      <th>page 2 (clothing model)</th>\n",
       "      <th>colour</th>\n",
       "      <th>location</th>\n",
       "      <th>model photography</th>\n",
       "      <th>price</th>\n",
       "      <th>price 2</th>\n",
       "      <th>page</th>\n",
       "    </tr>\n",
       "  </thead>\n",
       "  <tbody>\n",
       "    <tr>\n",
       "      <th>0</th>\n",
       "      <td>2008</td>\n",
       "      <td>4</td>\n",
       "      <td>1</td>\n",
       "      <td>1</td>\n",
       "      <td>29</td>\n",
       "      <td>1</td>\n",
       "      <td>1</td>\n",
       "      <td>A13</td>\n",
       "      <td>1</td>\n",
       "      <td>5</td>\n",
       "      <td>1</td>\n",
       "      <td>28</td>\n",
       "      <td>2</td>\n",
       "      <td>1</td>\n",
       "    </tr>\n",
       "    <tr>\n",
       "      <th>1</th>\n",
       "      <td>2008</td>\n",
       "      <td>4</td>\n",
       "      <td>1</td>\n",
       "      <td>2</td>\n",
       "      <td>29</td>\n",
       "      <td>1</td>\n",
       "      <td>1</td>\n",
       "      <td>A16</td>\n",
       "      <td>1</td>\n",
       "      <td>6</td>\n",
       "      <td>1</td>\n",
       "      <td>33</td>\n",
       "      <td>2</td>\n",
       "      <td>1</td>\n",
       "    </tr>\n",
       "    <tr>\n",
       "      <th>2</th>\n",
       "      <td>2008</td>\n",
       "      <td>4</td>\n",
       "      <td>1</td>\n",
       "      <td>3</td>\n",
       "      <td>29</td>\n",
       "      <td>1</td>\n",
       "      <td>2</td>\n",
       "      <td>B4</td>\n",
       "      <td>10</td>\n",
       "      <td>2</td>\n",
       "      <td>1</td>\n",
       "      <td>52</td>\n",
       "      <td>1</td>\n",
       "      <td>1</td>\n",
       "    </tr>\n",
       "    <tr>\n",
       "      <th>3</th>\n",
       "      <td>2008</td>\n",
       "      <td>4</td>\n",
       "      <td>1</td>\n",
       "      <td>4</td>\n",
       "      <td>29</td>\n",
       "      <td>1</td>\n",
       "      <td>2</td>\n",
       "      <td>B17</td>\n",
       "      <td>6</td>\n",
       "      <td>6</td>\n",
       "      <td>2</td>\n",
       "      <td>38</td>\n",
       "      <td>2</td>\n",
       "      <td>1</td>\n",
       "    </tr>\n",
       "    <tr>\n",
       "      <th>4</th>\n",
       "      <td>2008</td>\n",
       "      <td>4</td>\n",
       "      <td>1</td>\n",
       "      <td>5</td>\n",
       "      <td>29</td>\n",
       "      <td>1</td>\n",
       "      <td>2</td>\n",
       "      <td>B8</td>\n",
       "      <td>4</td>\n",
       "      <td>3</td>\n",
       "      <td>2</td>\n",
       "      <td>52</td>\n",
       "      <td>1</td>\n",
       "      <td>1</td>\n",
       "    </tr>\n",
       "  </tbody>\n",
       "</table>\n",
       "</div>"
      ],
      "text/plain": [
       "   year  month  day  order  country  session ID  page 1 (main category)  \\\n",
       "0  2008      4    1      1       29           1                       1   \n",
       "1  2008      4    1      2       29           1                       1   \n",
       "2  2008      4    1      3       29           1                       2   \n",
       "3  2008      4    1      4       29           1                       2   \n",
       "4  2008      4    1      5       29           1                       2   \n",
       "\n",
       "  page 2 (clothing model)  colour  location  model photography  price  \\\n",
       "0                     A13       1         5                  1     28   \n",
       "1                     A16       1         6                  1     33   \n",
       "2                      B4      10         2                  1     52   \n",
       "3                     B17       6         6                  2     38   \n",
       "4                      B8       4         3                  2     52   \n",
       "\n",
       "   price 2  page  \n",
       "0        2     1  \n",
       "1        2     1  \n",
       "2        1     1  \n",
       "3        2     1  \n",
       "4        1     1  "
      ]
     },
     "execution_count": 61,
     "metadata": {},
     "output_type": "execute_result"
    }
   ],
   "source": [
    "df.head()"
   ]
  },
  {
   "cell_type": "code",
   "execution_count": 62,
   "metadata": {},
   "outputs": [
    {
     "name": "stdout",
     "output_type": "stream",
     "text": [
      "{'A1': [1, 8, 1, 28, 2, 1, 1], 'A10': [1, 3, 4, 38, 2, 1, 1], 'A11': [1, 3, 4, 62, 1, 1, 1], 'A12': [1, 2, 4, 38, 2, 1, 1], 'A13': [1, 1, 5, 28, 2, 1, 1], 'A14': [1, 3, 5, 60, 1, 1, 1], 'A15': [1, 14, 5, 33, 2, 1, 2], 'A16': [1, 1, 6, 33, 2, 1, 1], 'A17': [1, 2, 6, 62, 1, 1, 1], 'A18': [1, 4, 6, 38, 2, 1, 1], 'A19': [1, 12, 1, 33, 2, 2, 2], 'A2': [1, 3, 1, 43, 2, 1, 1], 'A20': [1, 2, 1, 38, 2, 2, 2], 'A21': [1, 1, 1, 62, 1, 2, 1], 'A22': [1, 4, 2, 62, 1, 2, 1], 'A23': [1, 6, 2, 33, 2, 2, 2], 'A24': [1, 2, 2, 48, 1, 2, 1], 'A25': [1, 1, 3, 38, 2, 2, 1], 'A26': [1, 2, 3, 38, 2, 2, 1], 'A27': [1, 3, 3, 55, 1, 2, 1], 'A28': [1, 1, 4, 43, 2, 2, 2], 'A29': [1, 2, 4, 60, 1, 2, 1], 'A3': [1, 3, 1, 72, 1, 1, 1], 'A30': [1, 6, 4, 38, 2, 2, 1], 'A31': [1, 6, 5, 62, 1, 2, 2], 'A32': [1, 2, 5, 38, 2, 2, 1], 'A33': [1, 1, 5, 38, 2, 2, 1], 'A34': [1, 2, 6, 38, 2, 2, 1], 'A35': [1, 14, 6, 33, 2, 2, 2], 'A36': [1, 1, 6, 33, 2, 2, 1], 'A37': [1, 2, 1, 62, 1, 3, 1], 'A38': [1, 6, 1, 62, 1, 3, 1], 'A39': [1, 4, 1, 38, 2, 3, 1], 'A4': [1, 3, 2, 38, 2, 1, 2], 'A40': [1, 4, 2, 38, 2, 3, 2], 'A41': [1, 4, 2, 43, 2, 3, 1], 'A42': [1, 6, 2, 28, 2, 3, 1], 'A43': [1, 2, 3, 62, 1, 3, 1], 'A5': [1, 3, 2, 43, 2, 1, 1], 'A6': [1, 3, 2, 43, 2, 1, 1], 'A7': [1, 3, 3, 43, 2, 1, 1], 'A8': [1, 3, 3, 62, 1, 1, 1], 'A9': [1, 3, 3, 82, 1, 1, 1], 'B1': [2, 4, 1, 57, 1, 1, 1], 'B10': [2, 2, 4, 67, 1, 1, 1], 'B11': [2, 2, 4, 43, 2, 1, 1], 'B12': [2, 2, 4, 38, 2, 1, 1], 'B13': [2, 12, 5, 62, 1, 1, 2], 'B14': [2, 2, 5, 62, 1, 1, 1], 'B15': [2, 9, 5, 38, 2, 1, 1], 'B16': [2, 12, 6, 52, 1, 1, 1], 'B17': [2, 6, 6, 38, 2, 1, 2], 'B19': [2, 13, 1, 38, 2, 2, 1], 'B2': [2, 3, 1, 57, 1, 1, 2], 'B20': [2, 8, 1, 43, 2, 2, 1], 'B21': [2, 12, 1, 67, 1, 2, 1], 'B22': [2, 2, 2, 67, 1, 2, 1], 'B23': [2, 7, 2, 38, 2, 2, 1], 'B24': [2, 11, 2, 57, 1, 2, 1], 'B25': [2, 6, 3, 38, 2, 2, 1], 'B26': [2, 13, 3, 57, 1, 2, 1], 'B27': [2, 2, 3, 57, 1, 2, 1], 'B28': [2, 9, 4, 38, 2, 2, 1], 'B29': [2, 2, 4, 62, 1, 2, 1], 'B3': [2, 12, 1, 52, 1, 1, 1], 'B30': [2, 9, 4, 57, 1, 2, 1], 'B31': [2, 9, 5, 57, 1, 2, 1], 'B32': [2, 6, 5, 38, 2, 2, 1], 'B33': [2, 6, 5, 33, 2, 2, 2], 'B34': [2, 2, 6, 48, 2, 2, 1], 'B4': [2, 10, 2, 52, 1, 1, 1], 'B5': [2, 14, 2, 52, 1, 1, 2], 'B6': [2, 2, 2, 52, 1, 1, 1], 'B7': [2, 6, 3, 38, 2, 1, 1], 'B8': [2, 4, 3, 52, 1, 1, 2], 'B9': [2, 1, 3, 48, 2, 1, 1], 'C1': [3, 4, 1, 28, 2, 1, 2], 'C10': [3, 9, 4, 28, 2, 1, 2], 'C11': [3, 7, 4, 33, 2, 1, 1], 'C12': [3, 14, 4, 43, 1, 1, 1], 'C13': [3, 9, 5, 48, 1, 1, 1], 'C14': [3, 9, 5, 23, 2, 1, 1], 'C15': [3, 6, 5, 33, 2, 1, 1], 'C16': [3, 13, 6, 28, 2, 1, 1], 'C17': [3, 14, 6, 48, 1, 1, 1], 'C18': [3, 9, 6, 48, 1, 1, 1], 'C19': [3, 12, 1, 48, 1, 2, 1], 'C2': [3, 12, 1, 43, 1, 1, 1], 'C20': [3, 13, 1, 48, 1, 2, 2], 'C21': [3, 14, 1, 57, 1, 2, 1], 'C22': [3, 11, 2, 43, 1, 2, 2], 'C23': [3, 3, 2, 43, 1, 2, 1], 'C24': [3, 12, 2, 33, 2, 2, 1], 'C25': [3, 2, 3, 33, 2, 2, 1], 'C26': [3, 14, 3, 28, 2, 2, 1], 'C27': [3, 11, 3, 48, 1, 2, 1], 'C28': [3, 2, 4, 48, 1, 2, 2], 'C29': [3, 6, 4, 52, 1, 2, 2], 'C3': [3, 6, 1, 23, 2, 1, 2], 'C30': [3, 2, 4, 28, 2, 2, 2], 'C31': [3, 12, 5, 33, 2, 2, 1], 'C32': [3, 2, 5, 33, 2, 2, 1], 'C33': [3, 14, 5, 48, 1, 2, 1], 'C34': [3, 7, 6, 48, 1, 2, 1], 'C35': [3, 9, 6, 50, 1, 2, 1], 'C36': [3, 14, 6, 43, 1, 2, 1], 'C37': [3, 2, 1, 43, 1, 3, 1], 'C38': [3, 13, 1, 38, 2, 3, 1], 'C39': [3, 6, 1, 77, 1, 3, 1], 'C4': [3, 4, 2, 48, 1, 1, 1], 'C40': [3, 14, 2, 28, 2, 3, 2], 'C41': [3, 13, 2, 28, 2, 3, 1], 'C42': [3, 7, 2, 28, 2, 3, 1], 'C43': [3, 6, 3, 28, 2, 3, 2], 'C44': [3, 14, 3, 55, 1, 3, 1], 'C45': [3, 11, 3, 55, 1, 3, 1], 'C46': [3, 2, 4, 48, 1, 3, 1], 'C47': [3, 13, 4, 18, 2, 3, 2], 'C48': [3, 6, 4, 28, 2, 3, 1], 'C49': [3, 4, 5, 26, 2, 3, 2], 'C5': [3, 11, 2, 48, 1, 1, 1], 'C50': [3, 9, 5, 20, 2, 3, 2], 'C51': [3, 6, 5, 20, 2, 3, 1], 'C52': [3, 2, 6, 38, 2, 3, 1], 'C53': [3, 14, 6, 38, 2, 3, 1], 'C54': [3, 14, 6, 57, 1, 3, 1], 'C55': [3, 13, 1, 48, 1, 4, 1], 'C56': [3, 6, 1, 57, 1, 4, 2], 'C57': [3, 5, 1, 33, 2, 4, 2], 'C58': [3, 14, 2, 48, 1, 4, 2], 'C59': [3, 5, 2, 52, 1, 4, 2], 'C6': [3, 6, 2, 33, 2, 1, 1], 'C7': [3, 13, 3, 48, 1, 1, 1], 'C8': [3, 2, 3, 48, 1, 1, 2], 'C9': [3, 6, 3, 48, 1, 1, 1], 'P1': [4, 3, 1, 38, 1, 1, 1], 'P10': [4, 4, 4, 65, 1, 1, 2], 'P11': [4, 4, 4, 38, 1, 1, 2], 'P12': [4, 4, 4, 33, 2, 1, 1], 'P13': [4, 4, 5, 38, 1, 1, 1], 'P14': [4, 2, 5, 38, 1, 1, 2], 'P15': [4, 4, 5, 38, 1, 1, 2], 'P16': [4, 7, 6, 33, 2, 1, 1], 'P17': [4, 2, 6, 38, 1, 1, 2], 'P18': [4, 2, 6, 28, 2, 1, 1], 'P19': [4, 2, 1, 48, 1, 2, 1], 'P2': [4, 3, 1, 28, 2, 1, 1], 'P20': [4, 7, 1, 23, 2, 2, 1], 'P21': [4, 4, 1, 33, 2, 2, 1], 'P22': [4, 12, 2, 52, 1, 2, 1], 'P23': [4, 6, 2, 28, 2, 2, 2], 'P24': [4, 6, 2, 43, 1, 2, 1], 'P25': [4, 2, 3, 43, 1, 2, 2], 'P26': [4, 4, 3, 43, 1, 2, 1], 'P27': [4, 6, 3, 33, 2, 2, 2], 'P28': [4, 12, 4, 33, 2, 2, 2], 'P29': [4, 5, 4, 33, 2, 2, 2], 'P3': [4, 2, 1, 48, 1, 1, 1], 'P30': [4, 4, 4, 33, 2, 2, 1], 'P31': [4, 2, 5, 33, 2, 2, 2], 'P32': [4, 3, 5, 43, 1, 2, 2], 'P33': [4, 9, 5, 43, 1, 2, 1], 'P34': [4, 9, 6, 48, 1, 2, 2], 'P35': [4, 4, 6, 28, 2, 2, 1], 'P36': [4, 2, 6, 43, 1, 2, 1], 'P37': [4, 2, 1, 43, 1, 3, 1], 'P38': [4, 9, 1, 33, 2, 3, 1], 'P39': [4, 14, 1, 43, 1, 3, 1], 'P4': [4, 4, 2, 38, 1, 1, 1], 'P40': [4, 4, 2, 43, 1, 3, 1], 'P41': [4, 9, 2, 43, 1, 3, 2], 'P42': [4, 6, 2, 28, 2, 3, 2], 'P43': [4, 7, 3, 38, 1, 3, 2], 'P44': [4, 11, 3, 28, 2, 3, 2], 'P45': [4, 9, 3, 33, 2, 3, 1], 'P46': [4, 14, 4, 28, 2, 3, 1], 'P47': [4, 14, 4, 28, 2, 3, 1], 'P48': [4, 9, 4, 33, 2, 3, 2], 'P49': [4, 14, 5, 33, 2, 3, 1], 'P5': [4, 3, 2, 23, 2, 1, 1], 'P50': [4, 6, 5, 33, 2, 3, 2], 'P51': [4, 9, 5, 28, 2, 3, 1], 'P52': [4, 11, 6, 23, 2, 3, 2], 'P53': [4, 2, 6, 38, 1, 3, 2], 'P54': [4, 14, 1, 33, 2, 4, 2], 'P55': [4, 14, 1, 33, 2, 4, 2], 'P56': [4, 2, 1, 33, 2, 4, 1], 'P57': [4, 4, 1, 43, 1, 4, 1], 'P58': [4, 9, 2, 38, 1, 4, 2], 'P59': [4, 2, 2, 38, 1, 4, 2], 'P6': [4, 2, 2, 43, 1, 1, 1], 'P60': [4, 14, 2, 28, 2, 4, 1], 'P61': [4, 1, 3, 28, 2, 4, 2], 'P62': [4, 12, 3, 33, 2, 4, 2], 'P63': [4, 14, 3, 28, 2, 4, 2], 'P64': [4, 12, 4, 28, 2, 4, 2], 'P65': [4, 9, 4, 43, 1, 4, 2], 'P66': [4, 9, 4, 43, 1, 4, 2], 'P67': [4, 9, 5, 38, 1, 4, 1], 'P68': [4, 2, 5, 43, 1, 4, 2], 'P69': [4, 9, 5, 43, 1, 4, 1], 'P7': [4, 4, 3, 28, 2, 1, 2], 'P70': [4, 6, 6, 38, 1, 4, 2], 'P71': [4, 2, 6, 33, 2, 4, 2], 'P72': [4, 14, 6, 33, 2, 4, 1], 'P73': [4, 11, 1, 33, 2, 5, 2], 'P74': [4, 12, 1, 33, 2, 5, 2], 'P75': [4, 7, 1, 33, 2, 5, 1], 'P76': [4, 2, 2, 43, 1, 5, 2], 'P77': [4, 7, 2, 43, 1, 5, 1], 'P78': [4, 14, 2, 48, 1, 5, 2], 'P79': [4, 2, 3, 52, 1, 5, 1], 'P8': [4, 2, 3, 28, 2, 1, 1], 'P80': [4, 7, 3, 28, 2, 5, 1], 'P81': [4, 4, 3, 43, 1, 5, 2], 'P82': [4, 6, 4, 48, 1, 5, 2], 'P9': [4, 4, 3, 23, 2, 1, 2]}\n"
     ]
    }
   ],
   "source": [
    "# mylist = []\n",
    "# for i in df[\"page 2 (clothing model)\"]:\n",
    "#     mylist.append(i)\n",
    "    \n",
    "\n",
    "# mylist = list(dict.fromkeys(mylist))\n",
    "# mylist.sort()\n",
    "# dict = dict.fromkeys(mylist)\n",
    "# print (dict)\n",
    "\n",
    "for key in dict:\n",
    "    \n",
    "    for index, row in df.iterrows():\n",
    "        attribute_List = []\n",
    "        if row[\"page 2 (clothing model)\"] == key:\n",
    "            \n",
    "            attribute_List.append(row[\"page 1 (main category)\"])\n",
    "            attribute_List.append(row[\"colour\"])\n",
    "            attribute_List.append(row[\"location\"])\n",
    "            attribute_List.append(row[\"price\"])\n",
    "            attribute_List.append(row[\"price 2\"])\n",
    "            attribute_List.append(row[\"page\"])\n",
    "            attribute_List.append(row[\"model photography\"])\n",
    "#             print (attribute_List)\n",
    "            dict[key]=attribute_List\n",
    "            break\n",
    "print (dict)\n",
    "            \n",
    "#             model photography\n",
    "            \n",
    "        "
   ]
  },
  {
   "cell_type": "code",
   "execution_count": 63,
   "metadata": {},
   "outputs": [],
   "source": [
    "df2 = pd.DataFrame(columns = ['Product_Code', 'Category', 'Colour', \"Location\", \"Price\", \"Price_Higher_Than_Average\", \"Page\", \"Model_Photography\"])\n",
    "list = []\n",
    "for key in dict:\n",
    "    list.append(key)\n",
    "df2['Product_Code'] = list\n",
    "list = []\n"
   ]
  },
  {
   "cell_type": "code",
   "execution_count": 64,
   "metadata": {},
   "outputs": [],
   "source": [
    "#             attribute_List.append(row[\"page 1 (main category)\"])\n",
    "#             attribute_List.append(row[\"colour\"])\n",
    "#             attribute_List.append(row[\"location\"])\n",
    "#             attribute_List.append(row[\"price\"])\n",
    "#             attribute_List.append(row[\"price 2\"])\n",
    "#             attribute_List.append(row[\"page\"])\n",
    "#             attribute_List.append(row[\"model photography\"])"
   ]
  },
  {
   "cell_type": "code",
   "execution_count": null,
   "metadata": {},
   "outputs": [],
   "source": []
  },
  {
   "cell_type": "code",
   "execution_count": null,
   "metadata": {},
   "outputs": [],
   "source": []
  },
  {
   "cell_type": "code",
   "execution_count": null,
   "metadata": {},
   "outputs": [],
   "source": []
  },
  {
   "cell_type": "code",
   "execution_count": null,
   "metadata": {},
   "outputs": [],
   "source": []
  },
  {
   "cell_type": "code",
   "execution_count": null,
   "metadata": {},
   "outputs": [],
   "source": []
  },
  {
   "cell_type": "code",
   "execution_count": null,
   "metadata": {},
   "outputs": [],
   "source": []
  },
  {
   "cell_type": "code",
   "execution_count": 65,
   "metadata": {},
   "outputs": [
    {
     "data": {
      "text/html": [
       "<div>\n",
       "<style scoped>\n",
       "    .dataframe tbody tr th:only-of-type {\n",
       "        vertical-align: middle;\n",
       "    }\n",
       "\n",
       "    .dataframe tbody tr th {\n",
       "        vertical-align: top;\n",
       "    }\n",
       "\n",
       "    .dataframe thead th {\n",
       "        text-align: right;\n",
       "    }\n",
       "</style>\n",
       "<table border=\"1\" class=\"dataframe\">\n",
       "  <thead>\n",
       "    <tr style=\"text-align: right;\">\n",
       "      <th></th>\n",
       "      <th>Category</th>\n",
       "      <th>Colour</th>\n",
       "      <th>Location</th>\n",
       "      <th>Price</th>\n",
       "      <th>Price_Higher_Than_Average</th>\n",
       "      <th>Page</th>\n",
       "      <th>Model_Photography</th>\n",
       "    </tr>\n",
       "    <tr>\n",
       "      <th>Product_Code</th>\n",
       "      <th></th>\n",
       "      <th></th>\n",
       "      <th></th>\n",
       "      <th></th>\n",
       "      <th></th>\n",
       "      <th></th>\n",
       "      <th></th>\n",
       "    </tr>\n",
       "  </thead>\n",
       "  <tbody>\n",
       "    <tr>\n",
       "      <th>A1</th>\n",
       "      <td>1</td>\n",
       "      <td>8</td>\n",
       "      <td>1</td>\n",
       "      <td>28</td>\n",
       "      <td>2</td>\n",
       "      <td>1</td>\n",
       "      <td>1</td>\n",
       "    </tr>\n",
       "    <tr>\n",
       "      <th>A10</th>\n",
       "      <td>1</td>\n",
       "      <td>3</td>\n",
       "      <td>4</td>\n",
       "      <td>38</td>\n",
       "      <td>2</td>\n",
       "      <td>1</td>\n",
       "      <td>1</td>\n",
       "    </tr>\n",
       "    <tr>\n",
       "      <th>A11</th>\n",
       "      <td>1</td>\n",
       "      <td>3</td>\n",
       "      <td>4</td>\n",
       "      <td>62</td>\n",
       "      <td>1</td>\n",
       "      <td>1</td>\n",
       "      <td>1</td>\n",
       "    </tr>\n",
       "    <tr>\n",
       "      <th>A12</th>\n",
       "      <td>1</td>\n",
       "      <td>2</td>\n",
       "      <td>4</td>\n",
       "      <td>38</td>\n",
       "      <td>2</td>\n",
       "      <td>1</td>\n",
       "      <td>1</td>\n",
       "    </tr>\n",
       "    <tr>\n",
       "      <th>A13</th>\n",
       "      <td>1</td>\n",
       "      <td>1</td>\n",
       "      <td>5</td>\n",
       "      <td>28</td>\n",
       "      <td>2</td>\n",
       "      <td>1</td>\n",
       "      <td>1</td>\n",
       "    </tr>\n",
       "  </tbody>\n",
       "</table>\n",
       "</div>"
      ],
      "text/plain": [
       "              Category  Colour  Location  Price  Price_Higher_Than_Average  \\\n",
       "Product_Code                                                                 \n",
       "A1                   1       8         1     28                          2   \n",
       "A10                  1       3         4     38                          2   \n",
       "A11                  1       3         4     62                          1   \n",
       "A12                  1       2         4     38                          2   \n",
       "A13                  1       1         5     28                          2   \n",
       "\n",
       "              Page  Model_Photography  \n",
       "Product_Code                           \n",
       "A1               1                  1  \n",
       "A10              1                  1  \n",
       "A11              1                  1  \n",
       "A12              1                  1  \n",
       "A13              1                  1  "
      ]
     },
     "execution_count": 65,
     "metadata": {},
     "output_type": "execute_result"
    }
   ],
   "source": [
    "list=[]\n",
    "for i in dict.values():\n",
    "    list.append (i)\n",
    "\n",
    "df2 = pd.DataFrame(list,columns = [ 'Category', 'Colour', \"Location\", \"Price\", \"Price_Higher_Than_Average\", \"Page\", \"Model_Photography\"])\n",
    "\n",
    "    \n",
    "list=[]\n",
    "for i in dict.keys():\n",
    "    list.append(i)\n",
    "    \n",
    "df2[\"Product_Code\"] = list\n",
    "df2 = df2.set_index('Product_Code')\n",
    "df2.head()"
   ]
  },
  {
   "cell_type": "code",
   "execution_count": 81,
   "metadata": {
    "scrolled": true
   },
   "outputs": [
    {
     "data": {
      "text/html": [
       "<div>\n",
       "<style scoped>\n",
       "    .dataframe tbody tr th:only-of-type {\n",
       "        vertical-align: middle;\n",
       "    }\n",
       "\n",
       "    .dataframe tbody tr th {\n",
       "        vertical-align: top;\n",
       "    }\n",
       "\n",
       "    .dataframe thead th {\n",
       "        text-align: right;\n",
       "    }\n",
       "</style>\n",
       "<table border=\"1\" class=\"dataframe\">\n",
       "  <thead>\n",
       "    <tr style=\"text-align: right;\">\n",
       "      <th></th>\n",
       "      <th>year</th>\n",
       "      <th>month</th>\n",
       "      <th>day</th>\n",
       "      <th>order</th>\n",
       "      <th>country</th>\n",
       "      <th>session ID</th>\n",
       "      <th>page 1 (main category)</th>\n",
       "      <th>page 2 (clothing model)</th>\n",
       "      <th>colour</th>\n",
       "      <th>location</th>\n",
       "      <th>model photography</th>\n",
       "      <th>price</th>\n",
       "      <th>price 2</th>\n",
       "      <th>page</th>\n",
       "    </tr>\n",
       "  </thead>\n",
       "  <tbody>\n",
       "    <tr>\n",
       "      <th>48199</th>\n",
       "      <td>2008</td>\n",
       "      <td>5</td>\n",
       "      <td>1</td>\n",
       "      <td>1</td>\n",
       "      <td>9</td>\n",
       "      <td>6942</td>\n",
       "      <td>3</td>\n",
       "      <td>C5</td>\n",
       "      <td>11</td>\n",
       "      <td>2</td>\n",
       "      <td>1</td>\n",
       "      <td>48</td>\n",
       "      <td>1</td>\n",
       "      <td>1</td>\n",
       "    </tr>\n",
       "    <tr>\n",
       "      <th>48200</th>\n",
       "      <td>2008</td>\n",
       "      <td>5</td>\n",
       "      <td>1</td>\n",
       "      <td>1</td>\n",
       "      <td>9</td>\n",
       "      <td>6943</td>\n",
       "      <td>3</td>\n",
       "      <td>C2</td>\n",
       "      <td>12</td>\n",
       "      <td>1</td>\n",
       "      <td>1</td>\n",
       "      <td>43</td>\n",
       "      <td>1</td>\n",
       "      <td>1</td>\n",
       "    </tr>\n",
       "    <tr>\n",
       "      <th>48201</th>\n",
       "      <td>2008</td>\n",
       "      <td>5</td>\n",
       "      <td>1</td>\n",
       "      <td>2</td>\n",
       "      <td>9</td>\n",
       "      <td>6943</td>\n",
       "      <td>3</td>\n",
       "      <td>C40</td>\n",
       "      <td>14</td>\n",
       "      <td>2</td>\n",
       "      <td>2</td>\n",
       "      <td>28</td>\n",
       "      <td>2</td>\n",
       "      <td>3</td>\n",
       "    </tr>\n",
       "    <tr>\n",
       "      <th>48202</th>\n",
       "      <td>2008</td>\n",
       "      <td>5</td>\n",
       "      <td>1</td>\n",
       "      <td>3</td>\n",
       "      <td>9</td>\n",
       "      <td>6943</td>\n",
       "      <td>3</td>\n",
       "      <td>C41</td>\n",
       "      <td>13</td>\n",
       "      <td>2</td>\n",
       "      <td>1</td>\n",
       "      <td>28</td>\n",
       "      <td>2</td>\n",
       "      <td>3</td>\n",
       "    </tr>\n",
       "    <tr>\n",
       "      <th>48203</th>\n",
       "      <td>2008</td>\n",
       "      <td>5</td>\n",
       "      <td>1</td>\n",
       "      <td>4</td>\n",
       "      <td>9</td>\n",
       "      <td>6943</td>\n",
       "      <td>3</td>\n",
       "      <td>C48</td>\n",
       "      <td>6</td>\n",
       "      <td>4</td>\n",
       "      <td>1</td>\n",
       "      <td>28</td>\n",
       "      <td>2</td>\n",
       "      <td>3</td>\n",
       "    </tr>\n",
       "  </tbody>\n",
       "</table>\n",
       "</div>"
      ],
      "text/plain": [
       "       year  month  day  order  country  session ID  page 1 (main category)  \\\n",
       "48199  2008      5    1      1        9        6942                       3   \n",
       "48200  2008      5    1      1        9        6943                       3   \n",
       "48201  2008      5    1      2        9        6943                       3   \n",
       "48202  2008      5    1      3        9        6943                       3   \n",
       "48203  2008      5    1      4        9        6943                       3   \n",
       "\n",
       "      page 2 (clothing model)  colour  location  model photography  price  \\\n",
       "48199                      C5      11         2                  1     48   \n",
       "48200                      C2      12         1                  1     43   \n",
       "48201                     C40      14         2                  2     28   \n",
       "48202                     C41      13         2                  1     28   \n",
       "48203                     C48       6         4                  1     28   \n",
       "\n",
       "       price 2  page  \n",
       "48199        1     1  \n",
       "48200        1     1  \n",
       "48201        2     3  \n",
       "48202        2     3  \n",
       "48203        2     3  "
      ]
     },
     "execution_count": 81,
     "metadata": {},
     "output_type": "execute_result"
    }
   ],
   "source": [
    "df_may = df.loc[df[\"month\"]==5]\n",
    "df_july= df.loc[df[\"month\"]==7]\n",
    "# df3 = pd.concat([df_may, df_july])\n",
    "# df3.head()"
   ]
  },
  {
   "cell_type": "code",
   "execution_count": 83,
   "metadata": {},
   "outputs": [],
   "source": [
    "Revenue_List = []\n",
    "for Product_Code in df2.index:\n",
    "    Revenue = 0\n",
    "    for index, row in df_may.iterrows():\n",
    "        if row[\"page 2 (clothing model)\"]==Product_Code:\n",
    "            Revenue+=row.price\n",
    "    Revenue_List.append(Revenue)\n"
   ]
  },
  {
   "cell_type": "code",
   "execution_count": 84,
   "metadata": {},
   "outputs": [],
   "source": [
    "Training_df = df2.copy()\n",
    "Training_df[\"Revenue\"] = Revenue_List"
   ]
  },
  {
   "cell_type": "code",
   "execution_count": 95,
   "metadata": {},
   "outputs": [
    {
     "data": {
      "text/html": [
       "<div>\n",
       "<style scoped>\n",
       "    .dataframe tbody tr th:only-of-type {\n",
       "        vertical-align: middle;\n",
       "    }\n",
       "\n",
       "    .dataframe tbody tr th {\n",
       "        vertical-align: top;\n",
       "    }\n",
       "\n",
       "    .dataframe thead th {\n",
       "        text-align: right;\n",
       "    }\n",
       "</style>\n",
       "<table border=\"1\" class=\"dataframe\">\n",
       "  <thead>\n",
       "    <tr style=\"text-align: right;\">\n",
       "      <th></th>\n",
       "      <th>Category</th>\n",
       "      <th>Colour</th>\n",
       "      <th>Location</th>\n",
       "      <th>Price</th>\n",
       "      <th>Price_Higher_Than_Average</th>\n",
       "      <th>Page</th>\n",
       "      <th>Model_Photography</th>\n",
       "      <th>Revenue</th>\n",
       "    </tr>\n",
       "    <tr>\n",
       "      <th>Product_Code</th>\n",
       "      <th></th>\n",
       "      <th></th>\n",
       "      <th></th>\n",
       "      <th></th>\n",
       "      <th></th>\n",
       "      <th></th>\n",
       "      <th></th>\n",
       "      <th></th>\n",
       "    </tr>\n",
       "  </thead>\n",
       "  <tbody>\n",
       "    <tr>\n",
       "      <th>A1</th>\n",
       "      <td>1</td>\n",
       "      <td>8</td>\n",
       "      <td>1</td>\n",
       "      <td>28</td>\n",
       "      <td>2</td>\n",
       "      <td>1</td>\n",
       "      <td>1</td>\n",
       "      <td>11564</td>\n",
       "    </tr>\n",
       "    <tr>\n",
       "      <th>A10</th>\n",
       "      <td>1</td>\n",
       "      <td>3</td>\n",
       "      <td>4</td>\n",
       "      <td>38</td>\n",
       "      <td>2</td>\n",
       "      <td>1</td>\n",
       "      <td>1</td>\n",
       "      <td>17594</td>\n",
       "    </tr>\n",
       "    <tr>\n",
       "      <th>A11</th>\n",
       "      <td>1</td>\n",
       "      <td>3</td>\n",
       "      <td>4</td>\n",
       "      <td>62</td>\n",
       "      <td>1</td>\n",
       "      <td>1</td>\n",
       "      <td>1</td>\n",
       "      <td>32922</td>\n",
       "    </tr>\n",
       "    <tr>\n",
       "      <th>A12</th>\n",
       "      <td>1</td>\n",
       "      <td>2</td>\n",
       "      <td>4</td>\n",
       "      <td>38</td>\n",
       "      <td>2</td>\n",
       "      <td>1</td>\n",
       "      <td>1</td>\n",
       "      <td>14250</td>\n",
       "    </tr>\n",
       "    <tr>\n",
       "      <th>A13</th>\n",
       "      <td>1</td>\n",
       "      <td>1</td>\n",
       "      <td>5</td>\n",
       "      <td>28</td>\n",
       "      <td>2</td>\n",
       "      <td>1</td>\n",
       "      <td>1</td>\n",
       "      <td>9940</td>\n",
       "    </tr>\n",
       "  </tbody>\n",
       "</table>\n",
       "</div>"
      ],
      "text/plain": [
       "              Category  Colour  Location  Price  Price_Higher_Than_Average  \\\n",
       "Product_Code                                                                 \n",
       "A1                   1       8         1     28                          2   \n",
       "A10                  1       3         4     38                          2   \n",
       "A11                  1       3         4     62                          1   \n",
       "A12                  1       2         4     38                          2   \n",
       "A13                  1       1         5     28                          2   \n",
       "\n",
       "              Page  Model_Photography  Revenue  \n",
       "Product_Code                                    \n",
       "A1               1                  1    11564  \n",
       "A10              1                  1    17594  \n",
       "A11              1                  1    32922  \n",
       "A12              1                  1    14250  \n",
       "A13              1                  1     9940  "
      ]
     },
     "execution_count": 95,
     "metadata": {},
     "output_type": "execute_result"
    }
   ],
   "source": [
    "Training_df.head()"
   ]
  },
  {
   "cell_type": "code",
   "execution_count": 87,
   "metadata": {},
   "outputs": [],
   "source": [
    "Revenue_List = []\n",
    "for Product_Code in df2.index:\n",
    "    Revenue = 0\n",
    "    for index, row in df_july.iterrows():\n",
    "        if row[\"page 2 (clothing model)\"]==Product_Code:\n",
    "            Revenue+=row.price\n",
    "    Revenue_List.append(Revenue)"
   ]
  },
  {
   "cell_type": "code",
   "execution_count": 88,
   "metadata": {},
   "outputs": [],
   "source": [
    "Testing_df = df2.copy()\n",
    "Testing_df[\"Revenue\"] = Revenue_List"
   ]
  },
  {
   "cell_type": "code",
   "execution_count": null,
   "metadata": {},
   "outputs": [],
   "source": [
    "# from sklearn.model_selection import train_test_split\n",
    "# # Split data set into training and test sets\n",
    "# X_train, X_test, y_train, y_test = train_test_split(X, y, test_size=0.5, random_state=101)"
   ]
  },
  {
   "cell_type": "code",
   "execution_count": 85,
   "metadata": {},
   "outputs": [],
   "source": [
    "from sklearn.ensemble import RandomForestRegressor"
   ]
  },
  {
   "cell_type": "code",
   "execution_count": 111,
   "metadata": {},
   "outputs": [
    {
     "data": {
      "text/plain": [
       "LinearRegression(copy_X=True, fit_intercept=True, n_jobs=None,\n",
       "         normalize=False)"
      ]
     },
     "execution_count": 111,
     "metadata": {},
     "output_type": "execute_result"
    }
   ],
   "source": [
    "x_train = Training_df.copy()\n",
    "x_train = x_train.drop(['Revenue'], axis=1)\n",
    "y_train = Training_df[\"Revenue\"]\n",
    "\n",
    "\n",
    "clf = LinearRegression()\n",
    "clf.fit(x_train, y_train)"
   ]
  },
  {
   "cell_type": "code",
   "execution_count": 112,
   "metadata": {},
   "outputs": [],
   "source": [
    "x_test = Testing_df.copy()\n",
    "x_test=x_test.drop(['Revenue'], axis=1)\n",
    "y_test = Testing_df[\"Revenue\"]"
   ]
  },
  {
   "cell_type": "code",
   "execution_count": 113,
   "metadata": {},
   "outputs": [
    {
     "name": "stdout",
     "output_type": "stream",
     "text": [
      "Wall time: 128 ms\n"
     ]
    },
    {
     "name": "stderr",
     "output_type": "stream",
     "text": [
      "C:\\Users\\s1166\\Anaconda3\\lib\\site-packages\\sklearn\\ensemble\\forest.py:246: FutureWarning: The default value of n_estimators will change from 10 in version 0.20 to 100 in 0.22.\n",
      "  \"10 in version 0.20 to 100 in 0.22.\", FutureWarning)\n"
     ]
    }
   ],
   "source": [
    "%%time\n",
    "clf = RandomForestRegressor(n_jobs=-1)  # use all cores\n",
    "clf.fit(x_train, y_train)"
   ]
  },
  {
   "cell_type": "code",
   "execution_count": 114,
   "metadata": {},
   "outputs": [
    {
     "data": {
      "text/plain": [
       "0.40421433276741314"
      ]
     },
     "execution_count": 114,
     "metadata": {},
     "output_type": "execute_result"
    }
   ],
   "source": [
    "clf.score(x_test, y_test)"
   ]
  },
  {
   "cell_type": "code",
   "execution_count": 115,
   "metadata": {},
   "outputs": [],
   "source": [
    "# Other regression metrics\n",
    "# http://scikit-learn.org/stable/modules/model_evaluation.html#regression-metrics\n",
    "from sklearn.metrics import mean_squared_error, mean_absolute_error"
   ]
  },
  {
   "cell_type": "code",
   "execution_count": 116,
   "metadata": {},
   "outputs": [
    {
     "data": {
      "text/plain": [
       "4025.0242610540527"
      ]
     },
     "execution_count": 116,
     "metadata": {},
     "output_type": "execute_result"
    }
   ],
   "source": [
    "# Mean absolute error\n",
    "predicted = clf.predict(x_test)\n",
    "mean_absolute_error(y_test, predicted)"
   ]
  },
  {
   "cell_type": "code",
   "execution_count": 117,
   "metadata": {},
   "outputs": [
    {
     "data": {
      "text/plain": [
       "33277050.317958694"
      ]
     },
     "execution_count": 117,
     "metadata": {},
     "output_type": "execute_result"
    }
   ],
   "source": [
    "# MSE\n",
    "mean_squared_error(y_test, predicted)"
   ]
  },
  {
   "cell_type": "code",
   "execution_count": 105,
   "metadata": {},
   "outputs": [
    {
     "name": "stdout",
     "output_type": "stream",
     "text": [
      "Product_Code\n",
      "A1     16744\n",
      "A10    20862\n",
      "A11    44640\n",
      "A12    18468\n",
      "A13     9716\n",
      "A14    14280\n",
      "A15    13497\n",
      "A16     7689\n",
      "A17    22506\n",
      "A18     8854\n",
      "A19     2310\n",
      "A2     33669\n",
      "A20     4522\n",
      "A21    11904\n",
      "A22     7440\n",
      "A23     1947\n",
      "A24     2448\n",
      "A25     1710\n",
      "A26     2242\n",
      "A27     3960\n",
      "A28     2795\n",
      "A29     6780\n",
      "A3     36216\n",
      "A30     4978\n",
      "A31    10478\n",
      "A32     5396\n",
      "A33     4218\n",
      "A34     4978\n",
      "A35     2508\n",
      "A36     1749\n",
      "       ...  \n",
      "P57     2408\n",
      "P58     1520\n",
      "P59     3762\n",
      "P6     15136\n",
      "P60     2156\n",
      "P61     3752\n",
      "P62     1353\n",
      "P63     1932\n",
      "P64      700\n",
      "P65     2881\n",
      "P66      430\n",
      "P67     1900\n",
      "P68     1247\n",
      "P69     1591\n",
      "P7      4956\n",
      "P70     5700\n",
      "P71     2706\n",
      "P72     3828\n",
      "P73     1782\n",
      "P74     2607\n",
      "P75     1023\n",
      "P76     2408\n",
      "P77     6751\n",
      "P78     6240\n",
      "P79        0\n",
      "P8      4592\n",
      "P80     1792\n",
      "P81     2150\n",
      "P82    10656\n",
      "P9      3381\n",
      "Name: Revenue, Length: 217, dtype: int64\n"
     ]
    }
   ],
   "source": [
    "print (y_test)"
   ]
  },
  {
   "cell_type": "code",
   "execution_count": 122,
   "metadata": {},
   "outputs": [
    {
     "data": {
      "text/plain": [
       "0.5220697808808279"
      ]
     },
     "execution_count": 122,
     "metadata": {},
     "output_type": "execute_result"
    }
   ],
   "source": [
    "Training_df['Revenue'].corr(Training_df['Price'])"
   ]
  },
  {
   "cell_type": "code",
   "execution_count": 126,
   "metadata": {},
   "outputs": [
    {
     "data": {
      "text/plain": [
       "-0.4932592385945226"
      ]
     },
     "execution_count": 126,
     "metadata": {},
     "output_type": "execute_result"
    }
   ],
   "source": [
    "Training_df['Revenue'].corr(Training_df['Page'])"
   ]
  },
  {
   "cell_type": "code",
   "execution_count": 125,
   "metadata": {},
   "outputs": [
    {
     "data": {
      "image/png": "[encoded data removed]",
      "text/plain": [
       "<Figure size 540x540 with 12 Axes>"
      ]
     },
     "metadata": {
      "needs_background": "light"
     },
     "output_type": "display_data"
    }
   ],
   "source": [
    "corr_df = Training_df[[\"Revenue\", \"Price\", \"Page\"]]\n",
    "g = sns.pairplot(corr_df)"
   ]
  }
 ],
 "metadata": {
  "kernelspec": {
   "display_name": "Python 3",
   "language": "python",
   "name": "python3"
  },
  "language_info": {
   "codemirror_mode": {
    "name": "ipython",
    "version": 3
   },
   "file_extension": ".py",
   "mimetype": "text/x-python",
   "name": "python",
   "nbconvert_exporter": "python",
   "pygments_lexer": "ipython3",
   "version": "3.7.3"
  }
 },
 "nbformat": 4,
 "nbformat_minor": 2
}
